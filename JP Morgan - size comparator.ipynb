{
 "cells": [
  {
   "cell_type": "code",
   "execution_count": 41,
   "id": "d8e7915f",
   "metadata": {},
   "outputs": [],
   "source": [
    "#all in feet\n",
    "comparisons_dict = {\n",
    "    \"the University of Glasgow Tower\":{\"height\": 278}, \n",
    "    \"an average giraffe\":{\"height\": 15}, \n",
    "    \"George Washington’s Nose on Mount Rushmore\":{\"height\": 21}, \n",
    "    \"the Eiffel Tower\":{\"height\": 984}, \n",
    "    \"a traffic cone\":{\"height\": 1.5}, \n",
    "    \"the Millennium Falcon \":{\"height\": 112.76}, \n",
    "}"
   ]
  },
  {
   "cell_type": "code",
   "execution_count": 42,
   "id": "9c036819",
   "metadata": {},
   "outputs": [
    {
     "name": "stdout",
     "output_type": "stream",
     "text": [
      "A very accurate size comparator \n",
      "\n",
      "10 feet is 0.04 times the size of the University of Glasgow Tower\n",
      "10 feet is 0.67 times the size of an average giraffe\n",
      "10 feet is 0.48 times the size of George Washington’s Nose on Mount Rushmore\n",
      "10 feet is 0.01 times the size of the Eiffel Tower\n",
      "10 feet is 6.67 times the size of a traffic cone\n",
      "10 feet is 0.09 times the size of the Millennium Falcon \n"
     ]
    }
   ],
   "source": [
    "def compare_with(comparison_height, feet = True):\n",
    "    print(\"A very accurate size comparator \\n\")\n",
    "    measurement = \"feet\"\n",
    "    if feet != True:\n",
    "        comparison_height = comparison_height * 3.281\n",
    "        measurement = \"metres\"\n",
    "            \n",
    "    for each in comparisons_dict: \n",
    "        comp = str(round(comparison_height/comparisons_dict[each][\"height\"], 2))\n",
    "        \n",
    "        print(str(comparison_height) + \" \" + measurement  + \" is \" + comp + \" times the size of \" + each)\n",
    "        \n",
    "compare_with(10)"
   ]
  },
  {
   "cell_type": "code",
   "execution_count": null,
   "id": "e6a30717",
   "metadata": {},
   "outputs": [],
   "source": []
  }
 ],
 "metadata": {
  "kernelspec": {
   "display_name": "Python 3 (ipykernel)",
   "language": "python",
   "name": "python3"
  },
  "language_info": {
   "codemirror_mode": {
    "name": "ipython",
    "version": 3
   },
   "file_extension": ".py",
   "mimetype": "text/x-python",
   "name": "python",
   "nbconvert_exporter": "python",
   "pygments_lexer": "ipython3",
   "version": "3.9.12"
  }
 },
 "nbformat": 4,
 "nbformat_minor": 5
}
